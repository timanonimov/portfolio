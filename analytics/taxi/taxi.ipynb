{
 "cells": [
  {
   "cell_type": "code",
   "execution_count": 1,
   "metadata": {
    "pycharm": {
     "name": "#%%\n"
    }
   },
   "outputs": [],
   "source": [
    "import pandas as pd\n",
    "import numpy as np\n",
    "import matplotlib.pyplot as plt\n",
    "# upload dataset\n",
    "taxiDB = pd.read_csv('taxi_dataset.csv')"
   ]
  },
  {
   "cell_type": "code",
   "execution_count": 2,
   "metadata": {
    "pycharm": {
     "name": "#%%\n"
    }
   },
   "outputs": [
    {
     "data": {
      "text/plain": "          id  vendor_id      pickup_datetime     dropoff_datetime  \\\n0  id2875421          2  2016-03-14 17:24:55  2016-03-14 17:32:30   \n1  id2377394          1  2016-06-12 00:43:35  2016-06-12 00:54:38   \n2  id3858529          2  2016-01-19 11:35:24  2016-01-19 12:10:48   \n3  id3504673          2  2016-04-06 19:32:31  2016-04-06 19:39:40   \n4  id2181028          2  2016-03-26 13:30:55  2016-03-26 13:38:10   \n\n   passenger_count  pickup_longitude  pickup_latitude  dropoff_longitude  \\\n0                1        -73.982155        40.767937         -73.964630   \n1                1        -73.980415        40.738564         -73.999481   \n2                1        -73.979027        40.763939         -74.005333   \n3                1        -74.010040        40.719971         -74.012268   \n4                1        -73.973053        40.793209         -73.972923   \n\n   dropoff_latitude store_and_fwd_flag  \n0         40.765602                  N  \n1         40.731152                  N  \n2         40.710087                  N  \n3         40.706718                  N  \n4         40.782520                  N  ",
      "text/html": "<div>\n<style scoped>\n    .dataframe tbody tr th:only-of-type {\n        vertical-align: middle;\n    }\n\n    .dataframe tbody tr th {\n        vertical-align: top;\n    }\n\n    .dataframe thead th {\n        text-align: right;\n    }\n</style>\n<table border=\"1\" class=\"dataframe\">\n  <thead>\n    <tr style=\"text-align: right;\">\n      <th></th>\n      <th>id</th>\n      <th>vendor_id</th>\n      <th>pickup_datetime</th>\n      <th>dropoff_datetime</th>\n      <th>passenger_count</th>\n      <th>pickup_longitude</th>\n      <th>pickup_latitude</th>\n      <th>dropoff_longitude</th>\n      <th>dropoff_latitude</th>\n      <th>store_and_fwd_flag</th>\n    </tr>\n  </thead>\n  <tbody>\n    <tr>\n      <th>0</th>\n      <td>id2875421</td>\n      <td>2</td>\n      <td>2016-03-14 17:24:55</td>\n      <td>2016-03-14 17:32:30</td>\n      <td>1</td>\n      <td>-73.982155</td>\n      <td>40.767937</td>\n      <td>-73.964630</td>\n      <td>40.765602</td>\n      <td>N</td>\n    </tr>\n    <tr>\n      <th>1</th>\n      <td>id2377394</td>\n      <td>1</td>\n      <td>2016-06-12 00:43:35</td>\n      <td>2016-06-12 00:54:38</td>\n      <td>1</td>\n      <td>-73.980415</td>\n      <td>40.738564</td>\n      <td>-73.999481</td>\n      <td>40.731152</td>\n      <td>N</td>\n    </tr>\n    <tr>\n      <th>2</th>\n      <td>id3858529</td>\n      <td>2</td>\n      <td>2016-01-19 11:35:24</td>\n      <td>2016-01-19 12:10:48</td>\n      <td>1</td>\n      <td>-73.979027</td>\n      <td>40.763939</td>\n      <td>-74.005333</td>\n      <td>40.710087</td>\n      <td>N</td>\n    </tr>\n    <tr>\n      <th>3</th>\n      <td>id3504673</td>\n      <td>2</td>\n      <td>2016-04-06 19:32:31</td>\n      <td>2016-04-06 19:39:40</td>\n      <td>1</td>\n      <td>-74.010040</td>\n      <td>40.719971</td>\n      <td>-74.012268</td>\n      <td>40.706718</td>\n      <td>N</td>\n    </tr>\n    <tr>\n      <th>4</th>\n      <td>id2181028</td>\n      <td>2</td>\n      <td>2016-03-26 13:30:55</td>\n      <td>2016-03-26 13:38:10</td>\n      <td>1</td>\n      <td>-73.973053</td>\n      <td>40.793209</td>\n      <td>-73.972923</td>\n      <td>40.782520</td>\n      <td>N</td>\n    </tr>\n  </tbody>\n</table>\n</div>"
     },
     "execution_count": 2,
     "metadata": {},
     "output_type": "execute_result"
    }
   ],
   "source": [
    "# what do we have here?\n",
    "taxiDB.head(5)"
   ]
  },
  {
   "cell_type": "code",
   "execution_count": 3,
   "outputs": [],
   "source": [
    "# change the type of temporary columns\n",
    "taxiDB['pickup_datetime'] = pd.to_datetime(taxiDB['pickup_datetime'])\n",
    "taxiDB['dropoff_datetime'] = pd.to_datetime(taxiDB['dropoff_datetime'])\n",
    "\n",
    "# create a new column with trip duration in seconds\n",
    "taxiDB['trip_duration'] = (taxiDB['dropoff_datetime'] - taxiDB['pickup_datetime']).dt.total_seconds()\n",
    "\n",
    "# for new objects we will not know this, so we will remove the column\n",
    "taxiDB = taxiDB.drop('dropoff_datetime', axis=1)"
   ],
   "metadata": {
    "collapsed": false,
    "pycharm": {
     "name": "#%%\n"
    }
   }
  },
  {
   "cell_type": "code",
   "execution_count": 4,
   "outputs": [
    {
     "data": {
      "text/plain": "          id  vendor_id     pickup_datetime  passenger_count  \\\n0  id2875421          2 2016-03-14 17:24:55                1   \n1  id2377394          1 2016-06-12 00:43:35                1   \n2  id3858529          2 2016-01-19 11:35:24                1   \n3  id3504673          2 2016-04-06 19:32:31                1   \n4  id2181028          2 2016-03-26 13:30:55                1   \n\n   pickup_longitude  pickup_latitude  dropoff_longitude  dropoff_latitude  \\\n0        -73.982155        40.767937         -73.964630         40.765602   \n1        -73.980415        40.738564         -73.999481         40.731152   \n2        -73.979027        40.763939         -74.005333         40.710087   \n3        -74.010040        40.719971         -74.012268         40.706718   \n4        -73.973053        40.793209         -73.972923         40.782520   \n\n  store_and_fwd_flag  trip_duration  \n0                  N          455.0  \n1                  N          663.0  \n2                  N         2124.0  \n3                  N          429.0  \n4                  N          435.0  ",
      "text/html": "<div>\n<style scoped>\n    .dataframe tbody tr th:only-of-type {\n        vertical-align: middle;\n    }\n\n    .dataframe tbody tr th {\n        vertical-align: top;\n    }\n\n    .dataframe thead th {\n        text-align: right;\n    }\n</style>\n<table border=\"1\" class=\"dataframe\">\n  <thead>\n    <tr style=\"text-align: right;\">\n      <th></th>\n      <th>id</th>\n      <th>vendor_id</th>\n      <th>pickup_datetime</th>\n      <th>passenger_count</th>\n      <th>pickup_longitude</th>\n      <th>pickup_latitude</th>\n      <th>dropoff_longitude</th>\n      <th>dropoff_latitude</th>\n      <th>store_and_fwd_flag</th>\n      <th>trip_duration</th>\n    </tr>\n  </thead>\n  <tbody>\n    <tr>\n      <th>0</th>\n      <td>id2875421</td>\n      <td>2</td>\n      <td>2016-03-14 17:24:55</td>\n      <td>1</td>\n      <td>-73.982155</td>\n      <td>40.767937</td>\n      <td>-73.964630</td>\n      <td>40.765602</td>\n      <td>N</td>\n      <td>455.0</td>\n    </tr>\n    <tr>\n      <th>1</th>\n      <td>id2377394</td>\n      <td>1</td>\n      <td>2016-06-12 00:43:35</td>\n      <td>1</td>\n      <td>-73.980415</td>\n      <td>40.738564</td>\n      <td>-73.999481</td>\n      <td>40.731152</td>\n      <td>N</td>\n      <td>663.0</td>\n    </tr>\n    <tr>\n      <th>2</th>\n      <td>id3858529</td>\n      <td>2</td>\n      <td>2016-01-19 11:35:24</td>\n      <td>1</td>\n      <td>-73.979027</td>\n      <td>40.763939</td>\n      <td>-74.005333</td>\n      <td>40.710087</td>\n      <td>N</td>\n      <td>2124.0</td>\n    </tr>\n    <tr>\n      <th>3</th>\n      <td>id3504673</td>\n      <td>2</td>\n      <td>2016-04-06 19:32:31</td>\n      <td>1</td>\n      <td>-74.010040</td>\n      <td>40.719971</td>\n      <td>-74.012268</td>\n      <td>40.706718</td>\n      <td>N</td>\n      <td>429.0</td>\n    </tr>\n    <tr>\n      <th>4</th>\n      <td>id2181028</td>\n      <td>2</td>\n      <td>2016-03-26 13:30:55</td>\n      <td>1</td>\n      <td>-73.973053</td>\n      <td>40.793209</td>\n      <td>-73.972923</td>\n      <td>40.782520</td>\n      <td>N</td>\n      <td>435.0</td>\n    </tr>\n  </tbody>\n</table>\n</div>"
     },
     "execution_count": 4,
     "metadata": {},
     "output_type": "execute_result"
    }
   ],
   "source": [
    "# what do we have here now?\n",
    "taxiDB.head(5)"
   ],
   "metadata": {
    "collapsed": false,
    "pycharm": {
     "name": "#%%\n"
    }
   }
  },
  {
   "cell_type": "code",
   "execution_count": 5,
   "metadata": {
    "pycharm": {
     "name": "#%%\n"
    }
   },
   "outputs": [],
   "source": [
    "# this attribute takes values from 1 to 2, we translate into [0, 1]\n",
    "taxiDB['vendor_id'] = taxiDB['vendor_id'] - 1\n",
    "\n",
    "# encode another binary feature\n",
    "taxiDB['store_and_fwd_flag'] = taxiDB.store_and_fwd_flag.apply(lambda x: 0 if x=='N' else 1)"
   ]
  },
  {
   "cell_type": "code",
   "execution_count": 6,
   "metadata": {
    "pycharm": {
     "name": "#%%\n"
    }
   },
   "outputs": [
    {
     "data": {
      "text/plain": "          id  vendor_id     pickup_datetime  passenger_count  \\\n0  id2875421          1 2016-03-14 17:24:55                1   \n1  id2377394          0 2016-06-12 00:43:35                1   \n2  id3858529          1 2016-01-19 11:35:24                1   \n3  id3504673          1 2016-04-06 19:32:31                1   \n4  id2181028          1 2016-03-26 13:30:55                1   \n\n   pickup_longitude  pickup_latitude  dropoff_longitude  dropoff_latitude  \\\n0        -73.982155        40.767937         -73.964630         40.765602   \n1        -73.980415        40.738564         -73.999481         40.731152   \n2        -73.979027        40.763939         -74.005333         40.710087   \n3        -74.010040        40.719971         -74.012268         40.706718   \n4        -73.973053        40.793209         -73.972923         40.782520   \n\n   store_and_fwd_flag  trip_duration  \n0                   0          455.0  \n1                   0          663.0  \n2                   0         2124.0  \n3                   0          429.0  \n4                   0          435.0  ",
      "text/html": "<div>\n<style scoped>\n    .dataframe tbody tr th:only-of-type {\n        vertical-align: middle;\n    }\n\n    .dataframe tbody tr th {\n        vertical-align: top;\n    }\n\n    .dataframe thead th {\n        text-align: right;\n    }\n</style>\n<table border=\"1\" class=\"dataframe\">\n  <thead>\n    <tr style=\"text-align: right;\">\n      <th></th>\n      <th>id</th>\n      <th>vendor_id</th>\n      <th>pickup_datetime</th>\n      <th>passenger_count</th>\n      <th>pickup_longitude</th>\n      <th>pickup_latitude</th>\n      <th>dropoff_longitude</th>\n      <th>dropoff_latitude</th>\n      <th>store_and_fwd_flag</th>\n      <th>trip_duration</th>\n    </tr>\n  </thead>\n  <tbody>\n    <tr>\n      <th>0</th>\n      <td>id2875421</td>\n      <td>1</td>\n      <td>2016-03-14 17:24:55</td>\n      <td>1</td>\n      <td>-73.982155</td>\n      <td>40.767937</td>\n      <td>-73.964630</td>\n      <td>40.765602</td>\n      <td>0</td>\n      <td>455.0</td>\n    </tr>\n    <tr>\n      <th>1</th>\n      <td>id2377394</td>\n      <td>0</td>\n      <td>2016-06-12 00:43:35</td>\n      <td>1</td>\n      <td>-73.980415</td>\n      <td>40.738564</td>\n      <td>-73.999481</td>\n      <td>40.731152</td>\n      <td>0</td>\n      <td>663.0</td>\n    </tr>\n    <tr>\n      <th>2</th>\n      <td>id3858529</td>\n      <td>1</td>\n      <td>2016-01-19 11:35:24</td>\n      <td>1</td>\n      <td>-73.979027</td>\n      <td>40.763939</td>\n      <td>-74.005333</td>\n      <td>40.710087</td>\n      <td>0</td>\n      <td>2124.0</td>\n    </tr>\n    <tr>\n      <th>3</th>\n      <td>id3504673</td>\n      <td>1</td>\n      <td>2016-04-06 19:32:31</td>\n      <td>1</td>\n      <td>-74.010040</td>\n      <td>40.719971</td>\n      <td>-74.012268</td>\n      <td>40.706718</td>\n      <td>0</td>\n      <td>429.0</td>\n    </tr>\n    <tr>\n      <th>4</th>\n      <td>id2181028</td>\n      <td>1</td>\n      <td>2016-03-26 13:30:55</td>\n      <td>1</td>\n      <td>-73.973053</td>\n      <td>40.793209</td>\n      <td>-73.972923</td>\n      <td>40.782520</td>\n      <td>0</td>\n      <td>435.0</td>\n    </tr>\n  </tbody>\n</table>\n</div>"
     },
     "execution_count": 6,
     "metadata": {},
     "output_type": "execute_result"
    }
   ],
   "source": [
    "# what do we have here now?\n",
    "taxiDB.head(5)"
   ]
  },
  {
   "cell_type": "code",
   "execution_count": 7,
   "metadata": {
    "pycharm": {
     "name": "#%%\n"
    }
   },
   "outputs": [],
   "source": [
    "# save 10 first lines in csv\n",
    "taxiDB.head(10).to_csv('file1.csv', sep=';')"
   ]
  },
  {
   "cell_type": "code",
   "execution_count": 8,
   "metadata": {
    "pycharm": {
     "name": "#%%\n"
    }
   },
   "outputs": [],
   "source": [
    "### try to convert coordinates to distance\n",
    "# take standard values\n",
    "allLat  = list(taxiDB['pickup_latitude']) + list(taxiDB['dropoff_latitude'])\n",
    "medianLat  = sorted(allLat)[int(len(allLat)/2)]\n",
    "latMultiplier  = 111.32\n",
    "\n",
    "# see how far the fishin point is north/south of the start point\n",
    "taxiDB['pickup_latitude']   = latMultiplier  * (taxiDB['pickup_latitude']   - medianLat)\n",
    "taxiDB['dropoff_latitude']   = latMultiplier  * (taxiDB['dropoff_latitude']  - medianLat)"
   ]
  },
  {
   "cell_type": "code",
   "execution_count": 9,
   "outputs": [
    {
     "data": {
      "text/plain": "          id  vendor_id     pickup_datetime  passenger_count  \\\n0  id2875421          1 2016-03-14 17:24:55                1   \n1  id2377394          0 2016-06-12 00:43:35                1   \n2  id3858529          1 2016-01-19 11:35:24                1   \n3  id3504673          1 2016-04-06 19:32:31                1   \n4  id2181028          1 2016-03-26 13:30:55                1   \n\n   pickup_longitude  pickup_latitude  dropoff_longitude  dropoff_latitude  \\\n0        -73.982155         1.516008         -73.964630          1.256121   \n1        -73.980415        -1.753813         -73.999481         -2.578912   \n2        -73.979027         1.070973         -74.005333         -4.923841   \n3        -74.010040        -3.823568         -74.012268         -5.298809   \n4        -73.973053         4.329328         -73.972923          3.139453   \n\n   store_and_fwd_flag  trip_duration  \n0                   0          455.0  \n1                   0          663.0  \n2                   0         2124.0  \n3                   0          429.0  \n4                   0          435.0  ",
      "text/html": "<div>\n<style scoped>\n    .dataframe tbody tr th:only-of-type {\n        vertical-align: middle;\n    }\n\n    .dataframe tbody tr th {\n        vertical-align: top;\n    }\n\n    .dataframe thead th {\n        text-align: right;\n    }\n</style>\n<table border=\"1\" class=\"dataframe\">\n  <thead>\n    <tr style=\"text-align: right;\">\n      <th></th>\n      <th>id</th>\n      <th>vendor_id</th>\n      <th>pickup_datetime</th>\n      <th>passenger_count</th>\n      <th>pickup_longitude</th>\n      <th>pickup_latitude</th>\n      <th>dropoff_longitude</th>\n      <th>dropoff_latitude</th>\n      <th>store_and_fwd_flag</th>\n      <th>trip_duration</th>\n    </tr>\n  </thead>\n  <tbody>\n    <tr>\n      <th>0</th>\n      <td>id2875421</td>\n      <td>1</td>\n      <td>2016-03-14 17:24:55</td>\n      <td>1</td>\n      <td>-73.982155</td>\n      <td>1.516008</td>\n      <td>-73.964630</td>\n      <td>1.256121</td>\n      <td>0</td>\n      <td>455.0</td>\n    </tr>\n    <tr>\n      <th>1</th>\n      <td>id2377394</td>\n      <td>0</td>\n      <td>2016-06-12 00:43:35</td>\n      <td>1</td>\n      <td>-73.980415</td>\n      <td>-1.753813</td>\n      <td>-73.999481</td>\n      <td>-2.578912</td>\n      <td>0</td>\n      <td>663.0</td>\n    </tr>\n    <tr>\n      <th>2</th>\n      <td>id3858529</td>\n      <td>1</td>\n      <td>2016-01-19 11:35:24</td>\n      <td>1</td>\n      <td>-73.979027</td>\n      <td>1.070973</td>\n      <td>-74.005333</td>\n      <td>-4.923841</td>\n      <td>0</td>\n      <td>2124.0</td>\n    </tr>\n    <tr>\n      <th>3</th>\n      <td>id3504673</td>\n      <td>1</td>\n      <td>2016-04-06 19:32:31</td>\n      <td>1</td>\n      <td>-74.010040</td>\n      <td>-3.823568</td>\n      <td>-74.012268</td>\n      <td>-5.298809</td>\n      <td>0</td>\n      <td>429.0</td>\n    </tr>\n    <tr>\n      <th>4</th>\n      <td>id2181028</td>\n      <td>1</td>\n      <td>2016-03-26 13:30:55</td>\n      <td>1</td>\n      <td>-73.973053</td>\n      <td>4.329328</td>\n      <td>-73.972923</td>\n      <td>3.139453</td>\n      <td>0</td>\n      <td>435.0</td>\n    </tr>\n  </tbody>\n</table>\n</div>"
     },
     "execution_count": 9,
     "metadata": {},
     "output_type": "execute_result"
    }
   ],
   "source": [
    "# what do we have here now?\n",
    "taxiDB.head(5)"
   ],
   "metadata": {
    "collapsed": false,
    "pycharm": {
     "name": "#%%\n"
    }
   }
  },
  {
   "cell_type": "code",
   "execution_count": 10,
   "metadata": {
    "pycharm": {
     "name": "#%%\n"
    }
   },
   "outputs": [],
   "source": [
    "# take standard values\n",
    "allLong = list(taxiDB['pickup_longitude']) + list(taxiDB['dropoff_longitude'])\n",
    "medianLong  = sorted(allLong)[int(len(allLong)/2)]\n",
    "longMultiplier = np.cos(medianLat*(np.pi/180.0)) * 111.32\n",
    "\n",
    "# see how far the fishin point is west/east of the start point\n",
    "taxiDB['pickup_longitude']  = longMultiplier * (taxiDB['pickup_longitude']  - medianLong)\n",
    "taxiDB['dropoff_longitude']  = longMultiplier * (taxiDB['dropoff_longitude'] - medianLong)"
   ]
  },
  {
   "cell_type": "code",
   "execution_count": 11,
   "metadata": {
    "pycharm": {
     "name": "#%%\n"
    }
   },
   "outputs": [
    {
     "data": {
      "text/plain": "          id  vendor_id     pickup_datetime  passenger_count  \\\n0  id2875421          1 2016-03-14 17:24:55                1   \n1  id2377394          0 2016-06-12 00:43:35                1   \n2  id3858529          1 2016-01-19 11:35:24                1   \n3  id3504673          1 2016-04-06 19:32:31                1   \n4  id2181028          1 2016-03-26 13:30:55                1   \n\n   pickup_longitude  pickup_latitude  dropoff_longitude  dropoff_latitude  \\\n0         -0.110015         1.516008           1.367786          1.256121   \n1          0.036672        -1.753813          -1.571088         -2.578912   \n2          0.153763         1.070973          -2.064547         -4.923841   \n3         -2.461500        -3.823568          -2.649362         -5.298809   \n4          0.657515         4.329328           0.668452          3.139453   \n\n   store_and_fwd_flag  trip_duration  \n0                   0          455.0  \n1                   0          663.0  \n2                   0         2124.0  \n3                   0          429.0  \n4                   0          435.0  ",
      "text/html": "<div>\n<style scoped>\n    .dataframe tbody tr th:only-of-type {\n        vertical-align: middle;\n    }\n\n    .dataframe tbody tr th {\n        vertical-align: top;\n    }\n\n    .dataframe thead th {\n        text-align: right;\n    }\n</style>\n<table border=\"1\" class=\"dataframe\">\n  <thead>\n    <tr style=\"text-align: right;\">\n      <th></th>\n      <th>id</th>\n      <th>vendor_id</th>\n      <th>pickup_datetime</th>\n      <th>passenger_count</th>\n      <th>pickup_longitude</th>\n      <th>pickup_latitude</th>\n      <th>dropoff_longitude</th>\n      <th>dropoff_latitude</th>\n      <th>store_and_fwd_flag</th>\n      <th>trip_duration</th>\n    </tr>\n  </thead>\n  <tbody>\n    <tr>\n      <th>0</th>\n      <td>id2875421</td>\n      <td>1</td>\n      <td>2016-03-14 17:24:55</td>\n      <td>1</td>\n      <td>-0.110015</td>\n      <td>1.516008</td>\n      <td>1.367786</td>\n      <td>1.256121</td>\n      <td>0</td>\n      <td>455.0</td>\n    </tr>\n    <tr>\n      <th>1</th>\n      <td>id2377394</td>\n      <td>0</td>\n      <td>2016-06-12 00:43:35</td>\n      <td>1</td>\n      <td>0.036672</td>\n      <td>-1.753813</td>\n      <td>-1.571088</td>\n      <td>-2.578912</td>\n      <td>0</td>\n      <td>663.0</td>\n    </tr>\n    <tr>\n      <th>2</th>\n      <td>id3858529</td>\n      <td>1</td>\n      <td>2016-01-19 11:35:24</td>\n      <td>1</td>\n      <td>0.153763</td>\n      <td>1.070973</td>\n      <td>-2.064547</td>\n      <td>-4.923841</td>\n      <td>0</td>\n      <td>2124.0</td>\n    </tr>\n    <tr>\n      <th>3</th>\n      <td>id3504673</td>\n      <td>1</td>\n      <td>2016-04-06 19:32:31</td>\n      <td>1</td>\n      <td>-2.461500</td>\n      <td>-3.823568</td>\n      <td>-2.649362</td>\n      <td>-5.298809</td>\n      <td>0</td>\n      <td>429.0</td>\n    </tr>\n    <tr>\n      <th>4</th>\n      <td>id2181028</td>\n      <td>1</td>\n      <td>2016-03-26 13:30:55</td>\n      <td>1</td>\n      <td>0.657515</td>\n      <td>4.329328</td>\n      <td>0.668452</td>\n      <td>3.139453</td>\n      <td>0</td>\n      <td>435.0</td>\n    </tr>\n  </tbody>\n</table>\n</div>"
     },
     "execution_count": 11,
     "metadata": {},
     "output_type": "execute_result"
    }
   ],
   "source": [
    "# what do we have here now?\n",
    "taxiDB.head(5)"
   ]
  },
  {
   "cell_type": "code",
   "execution_count": 12,
   "metadata": {
    "pycharm": {
     "name": "#%%\n"
    }
   },
   "outputs": [],
   "source": [
    "### finally, let's calculate the geographic distance \"distance_km\":\n",
    "# find the difference in latitude/longitude\n",
    "taxiDB['long_diff'] = taxiDB['dropoff_longitude'] - taxiDB['pickup_longitude']\n",
    "taxiDB['lat_diff'] = taxiDB['dropoff_latitude'] - taxiDB['pickup_latitude']\n",
    "\n",
    "# formula from google :)\n",
    "taxiDB['distance_km'] = (taxiDB['long_diff']**2 + taxiDB['lat_diff']**2)**(1/2)\n",
    "\n",
    "# we don't need these two columns anymore\n",
    "taxiDB = taxiDB.drop(['long_diff', 'lat_diff'], axis=1)"
   ]
  },
  {
   "cell_type": "code",
   "execution_count": 13,
   "metadata": {
    "pycharm": {
     "name": "#%%\n"
    }
   },
   "outputs": [],
   "source": [
    "# and these too\n",
    "taxiDB = taxiDB.drop(['pickup_longitude', 'dropoff_longitude',\n",
    "                      'pickup_latitude', 'dropoff_latitude'], axis=1)"
   ]
  },
  {
   "cell_type": "code",
   "execution_count": 14,
   "metadata": {
    "pycharm": {
     "name": "#%%\n"
    }
   },
   "outputs": [
    {
     "data": {
      "text/plain": "          id  vendor_id     pickup_datetime  passenger_count  \\\n0  id2875421          1 2016-03-14 17:24:55                1   \n1  id2377394          0 2016-06-12 00:43:35                1   \n2  id3858529          1 2016-01-19 11:35:24                1   \n3  id3504673          1 2016-04-06 19:32:31                1   \n4  id2181028          1 2016-03-26 13:30:55                1   \n\n   store_and_fwd_flag  trip_duration  distance_km  \n0                   0          455.0     1.500479  \n1                   0          663.0     1.807119  \n2                   0         2124.0     6.392080  \n3                   0          429.0     1.487155  \n4                   0          435.0     1.189925  ",
      "text/html": "<div>\n<style scoped>\n    .dataframe tbody tr th:only-of-type {\n        vertical-align: middle;\n    }\n\n    .dataframe tbody tr th {\n        vertical-align: top;\n    }\n\n    .dataframe thead th {\n        text-align: right;\n    }\n</style>\n<table border=\"1\" class=\"dataframe\">\n  <thead>\n    <tr style=\"text-align: right;\">\n      <th></th>\n      <th>id</th>\n      <th>vendor_id</th>\n      <th>pickup_datetime</th>\n      <th>passenger_count</th>\n      <th>store_and_fwd_flag</th>\n      <th>trip_duration</th>\n      <th>distance_km</th>\n    </tr>\n  </thead>\n  <tbody>\n    <tr>\n      <th>0</th>\n      <td>id2875421</td>\n      <td>1</td>\n      <td>2016-03-14 17:24:55</td>\n      <td>1</td>\n      <td>0</td>\n      <td>455.0</td>\n      <td>1.500479</td>\n    </tr>\n    <tr>\n      <th>1</th>\n      <td>id2377394</td>\n      <td>0</td>\n      <td>2016-06-12 00:43:35</td>\n      <td>1</td>\n      <td>0</td>\n      <td>663.0</td>\n      <td>1.807119</td>\n    </tr>\n    <tr>\n      <th>2</th>\n      <td>id3858529</td>\n      <td>1</td>\n      <td>2016-01-19 11:35:24</td>\n      <td>1</td>\n      <td>0</td>\n      <td>2124.0</td>\n      <td>6.392080</td>\n    </tr>\n    <tr>\n      <th>3</th>\n      <td>id3504673</td>\n      <td>1</td>\n      <td>2016-04-06 19:32:31</td>\n      <td>1</td>\n      <td>0</td>\n      <td>429.0</td>\n      <td>1.487155</td>\n    </tr>\n    <tr>\n      <th>4</th>\n      <td>id2181028</td>\n      <td>1</td>\n      <td>2016-03-26 13:30:55</td>\n      <td>1</td>\n      <td>0</td>\n      <td>435.0</td>\n      <td>1.189925</td>\n    </tr>\n  </tbody>\n</table>\n</div>"
     },
     "execution_count": 14,
     "metadata": {},
     "output_type": "execute_result"
    }
   ],
   "source": [
    "# what do we have here now?\n",
    "taxiDB.head(5)"
   ]
  },
  {
   "cell_type": "code",
   "execution_count": 15,
   "metadata": {
    "pycharm": {
     "name": "#%%\n"
    }
   },
   "outputs": [],
   "source": [
    "# save 10 first lines in csv\n",
    "taxiDB.head(10).to_csv('file2.csv', sep=';')"
   ]
  },
  {
   "cell_type": "code",
   "execution_count": 18,
   "metadata": {
    "pycharm": {
     "name": "#%%\n"
    }
   },
   "outputs": [
    {
     "data": {
      "text/plain": "           vendor_id     pickup_datetime  passenger_count  store_and_fwd_flag  \\\nid                                                                              \nid2875421          1 2016-03-14 17:24:55       930.399753                   0   \nid2377394          0 2016-06-12 00:43:35       930.399753                   0   \nid3858529          1 2016-01-19 11:35:24       930.399753                   0   \nid3504673          1 2016-04-06 19:32:31       930.399753                   0   \nid2181028          1 2016-03-26 13:30:55       930.399753                   0   \n\n           trip_duration  distance_km  \nid                                     \nid2875421          455.0     1.500479  \nid2377394          663.0     1.807119  \nid3858529         2124.0     6.392080  \nid3504673          429.0     1.487155  \nid2181028          435.0     1.189925  ",
      "text/html": "<div>\n<style scoped>\n    .dataframe tbody tr th:only-of-type {\n        vertical-align: middle;\n    }\n\n    .dataframe tbody tr th {\n        vertical-align: top;\n    }\n\n    .dataframe thead th {\n        text-align: right;\n    }\n</style>\n<table border=\"1\" class=\"dataframe\">\n  <thead>\n    <tr style=\"text-align: right;\">\n      <th></th>\n      <th>vendor_id</th>\n      <th>pickup_datetime</th>\n      <th>passenger_count</th>\n      <th>store_and_fwd_flag</th>\n      <th>trip_duration</th>\n      <th>distance_km</th>\n    </tr>\n    <tr>\n      <th>id</th>\n      <th></th>\n      <th></th>\n      <th></th>\n      <th></th>\n      <th></th>\n      <th></th>\n    </tr>\n  </thead>\n  <tbody>\n    <tr>\n      <th>id2875421</th>\n      <td>1</td>\n      <td>2016-03-14 17:24:55</td>\n      <td>930.399753</td>\n      <td>0</td>\n      <td>455.0</td>\n      <td>1.500479</td>\n    </tr>\n    <tr>\n      <th>id2377394</th>\n      <td>0</td>\n      <td>2016-06-12 00:43:35</td>\n      <td>930.399753</td>\n      <td>0</td>\n      <td>663.0</td>\n      <td>1.807119</td>\n    </tr>\n    <tr>\n      <th>id3858529</th>\n      <td>1</td>\n      <td>2016-01-19 11:35:24</td>\n      <td>930.399753</td>\n      <td>0</td>\n      <td>2124.0</td>\n      <td>6.392080</td>\n    </tr>\n    <tr>\n      <th>id3504673</th>\n      <td>1</td>\n      <td>2016-04-06 19:32:31</td>\n      <td>930.399753</td>\n      <td>0</td>\n      <td>429.0</td>\n      <td>1.487155</td>\n    </tr>\n    <tr>\n      <th>id2181028</th>\n      <td>1</td>\n      <td>2016-03-26 13:30:55</td>\n      <td>930.399753</td>\n      <td>0</td>\n      <td>435.0</td>\n      <td>1.189925</td>\n    </tr>\n  </tbody>\n</table>\n</div>"
     },
     "execution_count": 18,
     "metadata": {},
     "output_type": "execute_result"
    }
   ],
   "source": [
    "# implement the trick with Mean-target encoding as in practice. Replace \"passenger_count\" column with\n",
    "# \"category_encoded\" column\n",
    "taxiDB['passenger_count'] = taxiDB['passenger_count'].map(taxiDB\n",
    "                                                          .groupby('passenger_count')['trip_duration']\n",
    "                                                          .mean())\n",
    "\n",
    "# the last not processed column is \"id\". use it as an identifier\n",
    "taxiDB = taxiDB.set_index('id')\n",
    "\n",
    "# all right?\n",
    "taxiDB.head()"
   ]
  },
  {
   "cell_type": "code",
   "execution_count": 19,
   "metadata": {
    "pycharm": {
     "name": "#%%\n"
    }
   },
   "outputs": [],
   "source": [
    "### okay, save it :)\n",
    "taxiDB.to_csv('taxi_result.csv', sep=';')"
   ]
  },
  {
   "cell_type": "code",
   "execution_count": 30,
   "outputs": [
    {
     "data": {
      "text/plain": "<Figure size 1200x1000 with 1 Axes>",
      "image/png": "[encoded data removed]"
     },
     "metadata": {},
     "output_type": "display_data"
    }
   ],
   "source": [
    "# see how the target variable is related to others\n",
    "import matplotlib.pyplot as plt\n",
    "\n",
    "fig, ax = plt.subplots()\n",
    "vendor = ['Vendor0', 'Vendor1']\n",
    "counts = [taxiDB[taxiDB['vendor_id'] == 0].shape[0], taxiDB[taxiDB['vendor_id'] == 1].shape[0]]\n",
    "bar_labels = ['vendor=0', 'vendor=1']\n",
    "bar_colors = ['tab:red', 'tab:blue']\n",
    "\n",
    "ax.bar(vendor, counts, label=bar_labels, color=bar_colors)\n",
    "\n",
    "ax.set_ylabel('Amount')\n",
    "ax.set_title('Relationship vendors and travel time')\n",
    "\n",
    "fig.set_size_inches(12, 10)\n",
    "plt.show()"
   ],
   "metadata": {
    "collapsed": false,
    "pycharm": {
     "name": "#%%\n"
    }
   }
  },
  {
   "cell_type": "code",
   "execution_count": 39,
   "outputs": [
    {
     "data": {
      "text/plain": "<Figure size 640x480 with 1 Axes>",
      "image/png": "[encoded data removed]"
     },
     "metadata": {},
     "output_type": "display_data"
    }
   ],
   "source": [
    "# is there a relationship?\n",
    "x = taxiDB['distance_km']\n",
    "y = taxiDB['trip_duration']\n",
    "\n",
    "plt.scatter(x, y)\n",
    "plt.show()"
   ],
   "metadata": {
    "collapsed": false,
    "pycharm": {
     "name": "#%%\n"
    }
   }
  },
  {
   "cell_type": "code",
   "execution_count": 47,
   "outputs": [
    {
     "data": {
      "text/plain": "<BarContainer object of 5 artists>"
     },
     "execution_count": 47,
     "metadata": {},
     "output_type": "execute_result"
    },
    {
     "data": {
      "text/plain": "<Figure size 640x480 with 1 Axes>",
      "image/png": "[encoded data removed]"
     },
     "metadata": {},
     "output_type": "display_data"
    }
   ],
   "source": [
    "# oops, the scheme is bad. Let's try bars again\n",
    "fig, ax = plt.subplots()\n",
    "\n",
    "distance = ['0-1km', '1-2km', '2-4km', '4-6km', '6+km']\n",
    "duration = [taxiDB[taxiDB['distance_km'] <= 1].shape[0],\n",
    "            taxiDB[(taxiDB['distance_km'] <= 2) & (taxiDB['distance_km'] > 1)].shape[0],\n",
    "            taxiDB[(taxiDB['distance_km'] <= 4) & (taxiDB['distance_km'] > 2)].shape[0],\n",
    "            taxiDB[(taxiDB['distance_km'] <= 6)  & (taxiDB['distance_km'] > 4)].shape[0],\n",
    "            taxiDB[taxiDB['distance_km'] > 6].shape[0]]\n",
    "\n",
    "ax.bar(distance, duration)"
   ],
   "metadata": {
    "collapsed": false,
    "pycharm": {
     "name": "#%%\n"
    }
   }
  },
  {
   "cell_type": "code",
   "execution_count": null,
   "outputs": [],
   "source": [],
   "metadata": {
    "collapsed": false,
    "pycharm": {
     "name": "#%%\n"
    }
   }
  }
 ],
 "metadata": {
  "kernelspec": {
   "display_name": "Python 3",
   "language": "python",
   "name": "python3"
  },
  "language_info": {
   "codemirror_mode": {
    "name": "ipython",
    "version": 3
   },
   "file_extension": ".py",
   "mimetype": "text/x-python",
   "name": "python",
   "nbconvert_exporter": "python",
   "pygments_lexer": "ipython3",
   "version": "3.7.3"
  }
 },
 "nbformat": 4,
 "nbformat_minor": 5
}