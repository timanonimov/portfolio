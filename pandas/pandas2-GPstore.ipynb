{
 "cells": [
  {
   "cell_type": "code",
   "execution_count": 1,
   "metadata": {
    "collapsed": true,
    "pycharm": {
     "name": "#%%\n"
    }
   },
   "outputs": [
    {
     "data": {
      "text/plain": "   Unnamed: 0                                                App  \\\n0           0     Photo Editor & Candy Camera & Grid & ScrapBook   \n1           1                                Coloring book moana   \n2           2  U Launcher Lite – FREE Live Cool Themes, Hide ...   \n\n         Category  Rating  Reviews  Size    Installs  Type Price  \\\n0  ART_AND_DESIGN     4.1      159   19M     10,000+  Free     0   \n1  ART_AND_DESIGN     3.9      967   14M    500,000+  Free     0   \n2  ART_AND_DESIGN     4.7    87510  8.7M  5,000,000+  Free     0   \n\n  Content Rating                     Genres      Last Updated Current Ver  \\\n0       Everyone               Art & Design   January 7, 2018       1.0.0   \n1       Everyone  Art & Design;Pretend Play  January 15, 2018       2.0.0   \n2       Everyone               Art & Design    August 1, 2018       1.2.4   \n\n    Android Ver  \n0  4.0.3 and up  \n1  4.0.3 and up  \n2  4.0.3 and up  ",
      "text/html": "<div>\n<style scoped>\n    .dataframe tbody tr th:only-of-type {\n        vertical-align: middle;\n    }\n\n    .dataframe tbody tr th {\n        vertical-align: top;\n    }\n\n    .dataframe thead th {\n        text-align: right;\n    }\n</style>\n<table border=\"1\" class=\"dataframe\">\n  <thead>\n    <tr style=\"text-align: right;\">\n      <th></th>\n      <th>Unnamed: 0</th>\n      <th>App</th>\n      <th>Category</th>\n      <th>Rating</th>\n      <th>Reviews</th>\n      <th>Size</th>\n      <th>Installs</th>\n      <th>Type</th>\n      <th>Price</th>\n      <th>Content Rating</th>\n      <th>Genres</th>\n      <th>Last Updated</th>\n      <th>Current Ver</th>\n      <th>Android Ver</th>\n    </tr>\n  </thead>\n  <tbody>\n    <tr>\n      <th>0</th>\n      <td>0</td>\n      <td>Photo Editor &amp; Candy Camera &amp; Grid &amp; ScrapBook</td>\n      <td>ART_AND_DESIGN</td>\n      <td>4.1</td>\n      <td>159</td>\n      <td>19M</td>\n      <td>10,000+</td>\n      <td>Free</td>\n      <td>0</td>\n      <td>Everyone</td>\n      <td>Art &amp; Design</td>\n      <td>January 7, 2018</td>\n      <td>1.0.0</td>\n      <td>4.0.3 and up</td>\n    </tr>\n    <tr>\n      <th>1</th>\n      <td>1</td>\n      <td>Coloring book moana</td>\n      <td>ART_AND_DESIGN</td>\n      <td>3.9</td>\n      <td>967</td>\n      <td>14M</td>\n      <td>500,000+</td>\n      <td>Free</td>\n      <td>0</td>\n      <td>Everyone</td>\n      <td>Art &amp; Design;Pretend Play</td>\n      <td>January 15, 2018</td>\n      <td>2.0.0</td>\n      <td>4.0.3 and up</td>\n    </tr>\n    <tr>\n      <th>2</th>\n      <td>2</td>\n      <td>U Launcher Lite – FREE Live Cool Themes, Hide ...</td>\n      <td>ART_AND_DESIGN</td>\n      <td>4.7</td>\n      <td>87510</td>\n      <td>8.7M</td>\n      <td>5,000,000+</td>\n      <td>Free</td>\n      <td>0</td>\n      <td>Everyone</td>\n      <td>Art &amp; Design</td>\n      <td>August 1, 2018</td>\n      <td>1.2.4</td>\n      <td>4.0.3 and up</td>\n    </tr>\n  </tbody>\n</table>\n</div>"
     },
     "execution_count": 1,
     "metadata": {},
     "output_type": "execute_result"
    }
   ],
   "source": [
    "import pandas as pd\n",
    "\n",
    "#load data\n",
    "data = pd.read_csv('playstore.csv')\n",
    "#see the first 3 entries\n",
    "data_head = data.head(3)\n",
    "data_head"
   ]
  },
  {
   "cell_type": "code",
   "execution_count": 2,
   "outputs": [
    {
     "data": {
      "text/plain": "       Unnamed: 0                                            App  \\\n10837       10837                         Parkinson Exercices FR   \n10838       10838                  The SCP Foundation DB fr nn5n   \n10839       10839  iHoroscope - 2018 Daily Horoscope & Astrology   \n\n                  Category  Rating  Reviews                Size     Installs  \\\n10837              MEDICAL     NaN        3                9.5M       1,000+   \n10838  BOOKS_AND_REFERENCE     4.5      114  Varies with device       1,000+   \n10839            LIFESTYLE     4.5   398307                 19M  10,000,000+   \n\n       Type Price Content Rating             Genres      Last Updated  \\\n10837  Free     0       Everyone            Medical  January 20, 2017   \n10838  Free     0     Mature 17+  Books & Reference  January 19, 2015   \n10839  Free     0       Everyone          Lifestyle     July 25, 2018   \n\n              Current Ver         Android Ver  \n10837                 1.0          2.2 and up  \n10838  Varies with device  Varies with device  \n10839  Varies with device  Varies with device  ",
      "text/html": "<div>\n<style scoped>\n    .dataframe tbody tr th:only-of-type {\n        vertical-align: middle;\n    }\n\n    .dataframe tbody tr th {\n        vertical-align: top;\n    }\n\n    .dataframe thead th {\n        text-align: right;\n    }\n</style>\n<table border=\"1\" class=\"dataframe\">\n  <thead>\n    <tr style=\"text-align: right;\">\n      <th></th>\n      <th>Unnamed: 0</th>\n      <th>App</th>\n      <th>Category</th>\n      <th>Rating</th>\n      <th>Reviews</th>\n      <th>Size</th>\n      <th>Installs</th>\n      <th>Type</th>\n      <th>Price</th>\n      <th>Content Rating</th>\n      <th>Genres</th>\n      <th>Last Updated</th>\n      <th>Current Ver</th>\n      <th>Android Ver</th>\n    </tr>\n  </thead>\n  <tbody>\n    <tr>\n      <th>10837</th>\n      <td>10837</td>\n      <td>Parkinson Exercices FR</td>\n      <td>MEDICAL</td>\n      <td>NaN</td>\n      <td>3</td>\n      <td>9.5M</td>\n      <td>1,000+</td>\n      <td>Free</td>\n      <td>0</td>\n      <td>Everyone</td>\n      <td>Medical</td>\n      <td>January 20, 2017</td>\n      <td>1.0</td>\n      <td>2.2 and up</td>\n    </tr>\n    <tr>\n      <th>10838</th>\n      <td>10838</td>\n      <td>The SCP Foundation DB fr nn5n</td>\n      <td>BOOKS_AND_REFERENCE</td>\n      <td>4.5</td>\n      <td>114</td>\n      <td>Varies with device</td>\n      <td>1,000+</td>\n      <td>Free</td>\n      <td>0</td>\n      <td>Mature 17+</td>\n      <td>Books &amp; Reference</td>\n      <td>January 19, 2015</td>\n      <td>Varies with device</td>\n      <td>Varies with device</td>\n    </tr>\n    <tr>\n      <th>10839</th>\n      <td>10839</td>\n      <td>iHoroscope - 2018 Daily Horoscope &amp; Astrology</td>\n      <td>LIFESTYLE</td>\n      <td>4.5</td>\n      <td>398307</td>\n      <td>19M</td>\n      <td>10,000,000+</td>\n      <td>Free</td>\n      <td>0</td>\n      <td>Everyone</td>\n      <td>Lifestyle</td>\n      <td>July 25, 2018</td>\n      <td>Varies with device</td>\n      <td>Varies with device</td>\n    </tr>\n  </tbody>\n</table>\n</div>"
     },
     "execution_count": 2,
     "metadata": {},
     "output_type": "execute_result"
    }
   ],
   "source": [
    "#see the last 3 entries\n",
    "data_tail = data.tail(3)\n",
    "data_tail"
   ],
   "metadata": {
    "collapsed": false,
    "pycharm": {
     "name": "#%%\n"
    }
   }
  },
  {
   "cell_type": "code",
   "execution_count": 7,
   "outputs": [
    {
     "name": "stdout",
     "output_type": "stream",
     "text": [
      "we have 14 column and 10840\n"
     ]
    }
   ],
   "source": [
    "n_col = data.shape[1]\n",
    "n_row = data.shape[0]\n",
    "print(f'we have {n_col} column and {n_row}')"
   ],
   "metadata": {
    "collapsed": false,
    "pycharm": {
     "name": "#%%\n"
    }
   }
  },
  {
   "cell_type": "code",
   "execution_count": 10,
   "outputs": [
    {
     "data": {
      "text/plain": "App    9659\ndtype: int64"
     },
     "execution_count": 10,
     "metadata": {},
     "output_type": "execute_result"
    }
   ],
   "source": [
    "#how many unique apps we have\n",
    "data.agg({'App': 'nunique'})"
   ],
   "metadata": {
    "collapsed": false,
    "pycharm": {
     "name": "#%%\n"
    }
   }
  },
  {
   "cell_type": "code",
   "execution_count": 20,
   "outputs": [
    {
     "data": {
      "text/plain": "      Unnamed: 0                                                App  \\\n0              0     Photo Editor & Candy Camera & Grid & ScrapBook   \n1              1                                Coloring book moana   \n2              2  U Launcher Lite – FREE Live Cool Themes, Hide ...   \n3              3                              Sketch - Draw & Paint   \n4              4              Pixel Draw - Number Art Coloring Book   \n...          ...                                                ...   \n9654       10835                                   Sya9a Maroc - FR   \n9655       10836                   Fr. Mike Schmitz Audio Teachings   \n9656       10837                             Parkinson Exercices FR   \n9657       10838                      The SCP Foundation DB fr nn5n   \n9658       10839      iHoroscope - 2018 Daily Horoscope & Astrology   \n\n                 Category  Rating  Reviews                Size     Installs  \\\n0          ART_AND_DESIGN     4.1      159                 19M      10,000+   \n1          ART_AND_DESIGN     3.9      967                 14M     500,000+   \n2          ART_AND_DESIGN     4.7    87510                8.7M   5,000,000+   \n3          ART_AND_DESIGN     4.5   215644                 25M  50,000,000+   \n4          ART_AND_DESIGN     4.3      967                2.8M     100,000+   \n...                   ...     ...      ...                 ...          ...   \n9654               FAMILY     4.5       38                 53M       5,000+   \n9655               FAMILY     5.0        4                3.6M         100+   \n9656              MEDICAL     NaN        3                9.5M       1,000+   \n9657  BOOKS_AND_REFERENCE     4.5      114  Varies with device       1,000+   \n9658            LIFESTYLE     4.5   398307                 19M  10,000,000+   \n\n      Type Price Content Rating                     Genres      Last Updated  \\\n0     Free     0       Everyone               Art & Design   January 7, 2018   \n1     Free     0       Everyone  Art & Design;Pretend Play  January 15, 2018   \n2     Free     0       Everyone               Art & Design    August 1, 2018   \n3     Free     0           Teen               Art & Design      June 8, 2018   \n4     Free     0       Everyone    Art & Design;Creativity     June 20, 2018   \n...    ...   ...            ...                        ...               ...   \n9654  Free     0       Everyone                  Education     July 25, 2017   \n9655  Free     0       Everyone                  Education      July 6, 2018   \n9656  Free     0       Everyone                    Medical  January 20, 2017   \n9657  Free     0     Mature 17+          Books & Reference  January 19, 2015   \n9658  Free     0       Everyone                  Lifestyle     July 25, 2018   \n\n             Current Ver         Android Ver  \n0                  1.0.0        4.0.3 and up  \n1                  2.0.0        4.0.3 and up  \n2                  1.2.4        4.0.3 and up  \n3     Varies with device          4.2 and up  \n4                    1.1          4.4 and up  \n...                  ...                 ...  \n9654                1.48          4.1 and up  \n9655                 1.0          4.1 and up  \n9656                 1.0          2.2 and up  \n9657  Varies with device  Varies with device  \n9658  Varies with device  Varies with device  \n\n[9659 rows x 14 columns]",
      "text/html": "<div>\n<style scoped>\n    .dataframe tbody tr th:only-of-type {\n        vertical-align: middle;\n    }\n\n    .dataframe tbody tr th {\n        vertical-align: top;\n    }\n\n    .dataframe thead th {\n        text-align: right;\n    }\n</style>\n<table border=\"1\" class=\"dataframe\">\n  <thead>\n    <tr style=\"text-align: right;\">\n      <th></th>\n      <th>Unnamed: 0</th>\n      <th>App</th>\n      <th>Category</th>\n      <th>Rating</th>\n      <th>Reviews</th>\n      <th>Size</th>\n      <th>Installs</th>\n      <th>Type</th>\n      <th>Price</th>\n      <th>Content Rating</th>\n      <th>Genres</th>\n      <th>Last Updated</th>\n      <th>Current Ver</th>\n      <th>Android Ver</th>\n    </tr>\n  </thead>\n  <tbody>\n    <tr>\n      <th>0</th>\n      <td>0</td>\n      <td>Photo Editor &amp; Candy Camera &amp; Grid &amp; ScrapBook</td>\n      <td>ART_AND_DESIGN</td>\n      <td>4.1</td>\n      <td>159</td>\n      <td>19M</td>\n      <td>10,000+</td>\n      <td>Free</td>\n      <td>0</td>\n      <td>Everyone</td>\n      <td>Art &amp; Design</td>\n      <td>January 7, 2018</td>\n      <td>1.0.0</td>\n      <td>4.0.3 and up</td>\n    </tr>\n    <tr>\n      <th>1</th>\n      <td>1</td>\n      <td>Coloring book moana</td>\n      <td>ART_AND_DESIGN</td>\n      <td>3.9</td>\n      <td>967</td>\n      <td>14M</td>\n      <td>500,000+</td>\n      <td>Free</td>\n      <td>0</td>\n      <td>Everyone</td>\n      <td>Art &amp; Design;Pretend Play</td>\n      <td>January 15, 2018</td>\n      <td>2.0.0</td>\n      <td>4.0.3 and up</td>\n    </tr>\n    <tr>\n      <th>2</th>\n      <td>2</td>\n      <td>U Launcher Lite – FREE Live Cool Themes, Hide ...</td>\n      <td>ART_AND_DESIGN</td>\n      <td>4.7</td>\n      <td>87510</td>\n      <td>8.7M</td>\n      <td>5,000,000+</td>\n      <td>Free</td>\n      <td>0</td>\n      <td>Everyone</td>\n      <td>Art &amp; Design</td>\n      <td>August 1, 2018</td>\n      <td>1.2.4</td>\n      <td>4.0.3 and up</td>\n    </tr>\n    <tr>\n      <th>3</th>\n      <td>3</td>\n      <td>Sketch - Draw &amp; Paint</td>\n      <td>ART_AND_DESIGN</td>\n      <td>4.5</td>\n      <td>215644</td>\n      <td>25M</td>\n      <td>50,000,000+</td>\n      <td>Free</td>\n      <td>0</td>\n      <td>Teen</td>\n      <td>Art &amp; Design</td>\n      <td>June 8, 2018</td>\n      <td>Varies with device</td>\n      <td>4.2 and up</td>\n    </tr>\n    <tr>\n      <th>4</th>\n      <td>4</td>\n      <td>Pixel Draw - Number Art Coloring Book</td>\n      <td>ART_AND_DESIGN</td>\n      <td>4.3</td>\n      <td>967</td>\n      <td>2.8M</td>\n      <td>100,000+</td>\n      <td>Free</td>\n      <td>0</td>\n      <td>Everyone</td>\n      <td>Art &amp; Design;Creativity</td>\n      <td>June 20, 2018</td>\n      <td>1.1</td>\n      <td>4.4 and up</td>\n    </tr>\n    <tr>\n      <th>...</th>\n      <td>...</td>\n      <td>...</td>\n      <td>...</td>\n      <td>...</td>\n      <td>...</td>\n      <td>...</td>\n      <td>...</td>\n      <td>...</td>\n      <td>...</td>\n      <td>...</td>\n      <td>...</td>\n      <td>...</td>\n      <td>...</td>\n      <td>...</td>\n    </tr>\n    <tr>\n      <th>9654</th>\n      <td>10835</td>\n      <td>Sya9a Maroc - FR</td>\n      <td>FAMILY</td>\n      <td>4.5</td>\n      <td>38</td>\n      <td>53M</td>\n      <td>5,000+</td>\n      <td>Free</td>\n      <td>0</td>\n      <td>Everyone</td>\n      <td>Education</td>\n      <td>July 25, 2017</td>\n      <td>1.48</td>\n      <td>4.1 and up</td>\n    </tr>\n    <tr>\n      <th>9655</th>\n      <td>10836</td>\n      <td>Fr. Mike Schmitz Audio Teachings</td>\n      <td>FAMILY</td>\n      <td>5.0</td>\n      <td>4</td>\n      <td>3.6M</td>\n      <td>100+</td>\n      <td>Free</td>\n      <td>0</td>\n      <td>Everyone</td>\n      <td>Education</td>\n      <td>July 6, 2018</td>\n      <td>1.0</td>\n      <td>4.1 and up</td>\n    </tr>\n    <tr>\n      <th>9656</th>\n      <td>10837</td>\n      <td>Parkinson Exercices FR</td>\n      <td>MEDICAL</td>\n      <td>NaN</td>\n      <td>3</td>\n      <td>9.5M</td>\n      <td>1,000+</td>\n      <td>Free</td>\n      <td>0</td>\n      <td>Everyone</td>\n      <td>Medical</td>\n      <td>January 20, 2017</td>\n      <td>1.0</td>\n      <td>2.2 and up</td>\n    </tr>\n    <tr>\n      <th>9657</th>\n      <td>10838</td>\n      <td>The SCP Foundation DB fr nn5n</td>\n      <td>BOOKS_AND_REFERENCE</td>\n      <td>4.5</td>\n      <td>114</td>\n      <td>Varies with device</td>\n      <td>1,000+</td>\n      <td>Free</td>\n      <td>0</td>\n      <td>Mature 17+</td>\n      <td>Books &amp; Reference</td>\n      <td>January 19, 2015</td>\n      <td>Varies with device</td>\n      <td>Varies with device</td>\n    </tr>\n    <tr>\n      <th>9658</th>\n      <td>10839</td>\n      <td>iHoroscope - 2018 Daily Horoscope &amp; Astrology</td>\n      <td>LIFESTYLE</td>\n      <td>4.5</td>\n      <td>398307</td>\n      <td>19M</td>\n      <td>10,000,000+</td>\n      <td>Free</td>\n      <td>0</td>\n      <td>Everyone</td>\n      <td>Lifestyle</td>\n      <td>July 25, 2018</td>\n      <td>Varies with device</td>\n      <td>Varies with device</td>\n    </tr>\n  </tbody>\n</table>\n<p>9659 rows × 14 columns</p>\n</div>"
     },
     "execution_count": 20,
     "metadata": {},
     "output_type": "execute_result"
    }
   ],
   "source": [
    "#drop not unique apps\n",
    "unique_playstore = data.drop_duplicates(subset=['App']).reset_index(drop=True)\n",
    "unique_playstore"
   ],
   "metadata": {
    "collapsed": false,
    "pycharm": {
     "name": "#%%\n"
    }
   }
  },
  {
   "cell_type": "code",
   "execution_count": 21,
   "outputs": [
    {
     "data": {
      "text/plain": "      unnamed:_0                                                app  \\\n0              0     Photo Editor & Candy Camera & Grid & ScrapBook   \n1              1                                Coloring book moana   \n2              2  U Launcher Lite – FREE Live Cool Themes, Hide ...   \n3              3                              Sketch - Draw & Paint   \n4              4              Pixel Draw - Number Art Coloring Book   \n...          ...                                                ...   \n9654       10835                                   Sya9a Maroc - FR   \n9655       10836                   Fr. Mike Schmitz Audio Teachings   \n9656       10837                             Parkinson Exercices FR   \n9657       10838                      The SCP Foundation DB fr nn5n   \n9658       10839      iHoroscope - 2018 Daily Horoscope & Astrology   \n\n                 category  rating  reviews                size     installs  \\\n0          ART_AND_DESIGN     4.1      159                 19M      10,000+   \n1          ART_AND_DESIGN     3.9      967                 14M     500,000+   \n2          ART_AND_DESIGN     4.7    87510                8.7M   5,000,000+   \n3          ART_AND_DESIGN     4.5   215644                 25M  50,000,000+   \n4          ART_AND_DESIGN     4.3      967                2.8M     100,000+   \n...                   ...     ...      ...                 ...          ...   \n9654               FAMILY     4.5       38                 53M       5,000+   \n9655               FAMILY     5.0        4                3.6M         100+   \n9656              MEDICAL     NaN        3                9.5M       1,000+   \n9657  BOOKS_AND_REFERENCE     4.5      114  Varies with device       1,000+   \n9658            LIFESTYLE     4.5   398307                 19M  10,000,000+   \n\n      type price content_rating                     genres      last_updated  \\\n0     Free     0       Everyone               Art & Design   January 7, 2018   \n1     Free     0       Everyone  Art & Design;Pretend Play  January 15, 2018   \n2     Free     0       Everyone               Art & Design    August 1, 2018   \n3     Free     0           Teen               Art & Design      June 8, 2018   \n4     Free     0       Everyone    Art & Design;Creativity     June 20, 2018   \n...    ...   ...            ...                        ...               ...   \n9654  Free     0       Everyone                  Education     July 25, 2017   \n9655  Free     0       Everyone                  Education      July 6, 2018   \n9656  Free     0       Everyone                    Medical  January 20, 2017   \n9657  Free     0     Mature 17+          Books & Reference  January 19, 2015   \n9658  Free     0       Everyone                  Lifestyle     July 25, 2018   \n\n             current_ver         android_ver  \n0                  1.0.0        4.0.3 and up  \n1                  2.0.0        4.0.3 and up  \n2                  1.2.4        4.0.3 and up  \n3     Varies with device          4.2 and up  \n4                    1.1          4.4 and up  \n...                  ...                 ...  \n9654                1.48          4.1 and up  \n9655                 1.0          4.1 and up  \n9656                 1.0          2.2 and up  \n9657  Varies with device  Varies with device  \n9658  Varies with device  Varies with device  \n\n[9659 rows x 14 columns]",
      "text/html": "<div>\n<style scoped>\n    .dataframe tbody tr th:only-of-type {\n        vertical-align: middle;\n    }\n\n    .dataframe tbody tr th {\n        vertical-align: top;\n    }\n\n    .dataframe thead th {\n        text-align: right;\n    }\n</style>\n<table border=\"1\" class=\"dataframe\">\n  <thead>\n    <tr style=\"text-align: right;\">\n      <th></th>\n      <th>unnamed:_0</th>\n      <th>app</th>\n      <th>category</th>\n      <th>rating</th>\n      <th>reviews</th>\n      <th>size</th>\n      <th>installs</th>\n      <th>type</th>\n      <th>price</th>\n      <th>content_rating</th>\n      <th>genres</th>\n      <th>last_updated</th>\n      <th>current_ver</th>\n      <th>android_ver</th>\n    </tr>\n  </thead>\n  <tbody>\n    <tr>\n      <th>0</th>\n      <td>0</td>\n      <td>Photo Editor &amp; Candy Camera &amp; Grid &amp; ScrapBook</td>\n      <td>ART_AND_DESIGN</td>\n      <td>4.1</td>\n      <td>159</td>\n      <td>19M</td>\n      <td>10,000+</td>\n      <td>Free</td>\n      <td>0</td>\n      <td>Everyone</td>\n      <td>Art &amp; Design</td>\n      <td>January 7, 2018</td>\n      <td>1.0.0</td>\n      <td>4.0.3 and up</td>\n    </tr>\n    <tr>\n      <th>1</th>\n      <td>1</td>\n      <td>Coloring book moana</td>\n      <td>ART_AND_DESIGN</td>\n      <td>3.9</td>\n      <td>967</td>\n      <td>14M</td>\n      <td>500,000+</td>\n      <td>Free</td>\n      <td>0</td>\n      <td>Everyone</td>\n      <td>Art &amp; Design;Pretend Play</td>\n      <td>January 15, 2018</td>\n      <td>2.0.0</td>\n      <td>4.0.3 and up</td>\n    </tr>\n    <tr>\n      <th>2</th>\n      <td>2</td>\n      <td>U Launcher Lite – FREE Live Cool Themes, Hide ...</td>\n      <td>ART_AND_DESIGN</td>\n      <td>4.7</td>\n      <td>87510</td>\n      <td>8.7M</td>\n      <td>5,000,000+</td>\n      <td>Free</td>\n      <td>0</td>\n      <td>Everyone</td>\n      <td>Art &amp; Design</td>\n      <td>August 1, 2018</td>\n      <td>1.2.4</td>\n      <td>4.0.3 and up</td>\n    </tr>\n    <tr>\n      <th>3</th>\n      <td>3</td>\n      <td>Sketch - Draw &amp; Paint</td>\n      <td>ART_AND_DESIGN</td>\n      <td>4.5</td>\n      <td>215644</td>\n      <td>25M</td>\n      <td>50,000,000+</td>\n      <td>Free</td>\n      <td>0</td>\n      <td>Teen</td>\n      <td>Art &amp; Design</td>\n      <td>June 8, 2018</td>\n      <td>Varies with device</td>\n      <td>4.2 and up</td>\n    </tr>\n    <tr>\n      <th>4</th>\n      <td>4</td>\n      <td>Pixel Draw - Number Art Coloring Book</td>\n      <td>ART_AND_DESIGN</td>\n      <td>4.3</td>\n      <td>967</td>\n      <td>2.8M</td>\n      <td>100,000+</td>\n      <td>Free</td>\n      <td>0</td>\n      <td>Everyone</td>\n      <td>Art &amp; Design;Creativity</td>\n      <td>June 20, 2018</td>\n      <td>1.1</td>\n      <td>4.4 and up</td>\n    </tr>\n    <tr>\n      <th>...</th>\n      <td>...</td>\n      <td>...</td>\n      <td>...</td>\n      <td>...</td>\n      <td>...</td>\n      <td>...</td>\n      <td>...</td>\n      <td>...</td>\n      <td>...</td>\n      <td>...</td>\n      <td>...</td>\n      <td>...</td>\n      <td>...</td>\n      <td>...</td>\n    </tr>\n    <tr>\n      <th>9654</th>\n      <td>10835</td>\n      <td>Sya9a Maroc - FR</td>\n      <td>FAMILY</td>\n      <td>4.5</td>\n      <td>38</td>\n      <td>53M</td>\n      <td>5,000+</td>\n      <td>Free</td>\n      <td>0</td>\n      <td>Everyone</td>\n      <td>Education</td>\n      <td>July 25, 2017</td>\n      <td>1.48</td>\n      <td>4.1 and up</td>\n    </tr>\n    <tr>\n      <th>9655</th>\n      <td>10836</td>\n      <td>Fr. Mike Schmitz Audio Teachings</td>\n      <td>FAMILY</td>\n      <td>5.0</td>\n      <td>4</td>\n      <td>3.6M</td>\n      <td>100+</td>\n      <td>Free</td>\n      <td>0</td>\n      <td>Everyone</td>\n      <td>Education</td>\n      <td>July 6, 2018</td>\n      <td>1.0</td>\n      <td>4.1 and up</td>\n    </tr>\n    <tr>\n      <th>9656</th>\n      <td>10837</td>\n      <td>Parkinson Exercices FR</td>\n      <td>MEDICAL</td>\n      <td>NaN</td>\n      <td>3</td>\n      <td>9.5M</td>\n      <td>1,000+</td>\n      <td>Free</td>\n      <td>0</td>\n      <td>Everyone</td>\n      <td>Medical</td>\n      <td>January 20, 2017</td>\n      <td>1.0</td>\n      <td>2.2 and up</td>\n    </tr>\n    <tr>\n      <th>9657</th>\n      <td>10838</td>\n      <td>The SCP Foundation DB fr nn5n</td>\n      <td>BOOKS_AND_REFERENCE</td>\n      <td>4.5</td>\n      <td>114</td>\n      <td>Varies with device</td>\n      <td>1,000+</td>\n      <td>Free</td>\n      <td>0</td>\n      <td>Mature 17+</td>\n      <td>Books &amp; Reference</td>\n      <td>January 19, 2015</td>\n      <td>Varies with device</td>\n      <td>Varies with device</td>\n    </tr>\n    <tr>\n      <th>9658</th>\n      <td>10839</td>\n      <td>iHoroscope - 2018 Daily Horoscope &amp; Astrology</td>\n      <td>LIFESTYLE</td>\n      <td>4.5</td>\n      <td>398307</td>\n      <td>19M</td>\n      <td>10,000,000+</td>\n      <td>Free</td>\n      <td>0</td>\n      <td>Everyone</td>\n      <td>Lifestyle</td>\n      <td>July 25, 2018</td>\n      <td>Varies with device</td>\n      <td>Varies with device</td>\n    </tr>\n  </tbody>\n</table>\n<p>9659 rows × 14 columns</p>\n</div>"
     },
     "execution_count": 21,
     "metadata": {},
     "output_type": "execute_result"
    }
   ],
   "source": [
    "#tidy up the column names\n",
    "unique_playstore.columns = unique_playstore.columns.str.replace(' ', '_').str.lower()\n",
    "unique_playstore"
   ],
   "metadata": {
    "collapsed": false,
    "pycharm": {
     "name": "#%%\n"
    }
   }
  },
  {
   "cell_type": "code",
   "execution_count": 35,
   "outputs": [
    {
     "data": {
      "text/plain": "Free    0.92\nPaid    0.08\nName: type, dtype: float64"
     },
     "execution_count": 35,
     "metadata": {},
     "output_type": "execute_result"
    }
   ],
   "source": [
    "#share of paid and free applications\n",
    "unique_playstore.type.value_counts(normalize=True).round(2)"
   ],
   "metadata": {
    "collapsed": false,
    "pycharm": {
     "name": "#%%\n"
    }
   }
  },
  {
   "cell_type": "code",
   "execution_count": 48,
   "outputs": [
    {
     "data": {
      "text/plain": "    unnamed:_0                                                app   category  \\\n0          699                     Duolingo: Learn Languages Free  EDUCATION   \n1          700                                                TED  EDUCATION   \n2          701  English Communication - Learn English for Chin...  EDUCATION   \n3          702                                       Khan Academy  EDUCATION   \n4          703                         Learn English with Wlingua  EDUCATION   \n..         ...                                                ...        ...   \n93         848                  SoloLearn: Learn to Code for Free  EDUCATION   \n94         849                     Kids Learn Languages by Mondly  EDUCATION   \n95         850                        Blinkist - Nonfiction Books  EDUCATION   \n96         853                                    Toca Life: City  EDUCATION   \n97         854                                Toca Life: Hospital  EDUCATION   \n\n    rating  reviews                size      installs  type  price  \\\n0      4.7  6289924  Varies with device  100,000,000+  Free      0   \n1      4.6   181893                 18M   10,000,000+  Free      0   \n2      4.7     2544                 18M      100,000+  Free      0   \n3      4.6    85375                 21M    5,000,000+  Free      0   \n4      4.7   314299                3.3M   10,000,000+  Free      0   \n..     ...      ...                 ...           ...   ...    ...   \n93     4.8   256079                7.6M    1,000,000+  Free      0   \n94     4.4     2078  Varies with device      100,000+  Free      0   \n95     4.1    16103                 13M    1,000,000+  Free      0   \n96     4.7    31085                 24M      500,000+  Paid  $3.99   \n97     4.7     3528                 24M      100,000+  Paid  $3.99   \n\n   content_rating                  genres       last_updated  \\\n0        Everyone     Education;Education     August 1, 2018   \n1    Everyone 10+               Education      July 27, 2018   \n2        Everyone               Education  December 29, 2017   \n3        Everyone               Education      July 27, 2018   \n4        Everyone               Education        May 2, 2018   \n..            ...                     ...                ...   \n93           Teen               Education      July 12, 2018   \n94       Everyone     Education;Education  December 24, 2017   \n95       Everyone               Education      July 31, 2018   \n96       Everyone  Education;Pretend Play       July 6, 2018   \n97       Everyone  Education;Pretend Play      June 12, 2018   \n\n           current_ver         android_ver  \n0   Varies with device  Varies with device  \n1                3.2.5          4.1 and up  \n2                  3.1          4.0 and up  \n3                5.0.0          4.1 and up  \n4               1.94.9          4.0 and up  \n..                 ...                 ...  \n93               2.2.4        4.0.3 and up  \n94               1.0.2          4.1 and up  \n95               5.7.1          4.1 and up  \n96            1.5-play          4.4 and up  \n97          1.1.1-play          4.4 and up  \n\n[98 rows x 14 columns]",
      "text/html": "<div>\n<style scoped>\n    .dataframe tbody tr th:only-of-type {\n        vertical-align: middle;\n    }\n\n    .dataframe tbody tr th {\n        vertical-align: top;\n    }\n\n    .dataframe thead th {\n        text-align: right;\n    }\n</style>\n<table border=\"1\" class=\"dataframe\">\n  <thead>\n    <tr style=\"text-align: right;\">\n      <th></th>\n      <th>unnamed:_0</th>\n      <th>app</th>\n      <th>category</th>\n      <th>rating</th>\n      <th>reviews</th>\n      <th>size</th>\n      <th>installs</th>\n      <th>type</th>\n      <th>price</th>\n      <th>content_rating</th>\n      <th>genres</th>\n      <th>last_updated</th>\n      <th>current_ver</th>\n      <th>android_ver</th>\n    </tr>\n  </thead>\n  <tbody>\n    <tr>\n      <th>0</th>\n      <td>699</td>\n      <td>Duolingo: Learn Languages Free</td>\n      <td>EDUCATION</td>\n      <td>4.7</td>\n      <td>6289924</td>\n      <td>Varies with device</td>\n      <td>100,000,000+</td>\n      <td>Free</td>\n      <td>0</td>\n      <td>Everyone</td>\n      <td>Education;Education</td>\n      <td>August 1, 2018</td>\n      <td>Varies with device</td>\n      <td>Varies with device</td>\n    </tr>\n    <tr>\n      <th>1</th>\n      <td>700</td>\n      <td>TED</td>\n      <td>EDUCATION</td>\n      <td>4.6</td>\n      <td>181893</td>\n      <td>18M</td>\n      <td>10,000,000+</td>\n      <td>Free</td>\n      <td>0</td>\n      <td>Everyone 10+</td>\n      <td>Education</td>\n      <td>July 27, 2018</td>\n      <td>3.2.5</td>\n      <td>4.1 and up</td>\n    </tr>\n    <tr>\n      <th>2</th>\n      <td>701</td>\n      <td>English Communication - Learn English for Chin...</td>\n      <td>EDUCATION</td>\n      <td>4.7</td>\n      <td>2544</td>\n      <td>18M</td>\n      <td>100,000+</td>\n      <td>Free</td>\n      <td>0</td>\n      <td>Everyone</td>\n      <td>Education</td>\n      <td>December 29, 2017</td>\n      <td>3.1</td>\n      <td>4.0 and up</td>\n    </tr>\n    <tr>\n      <th>3</th>\n      <td>702</td>\n      <td>Khan Academy</td>\n      <td>EDUCATION</td>\n      <td>4.6</td>\n      <td>85375</td>\n      <td>21M</td>\n      <td>5,000,000+</td>\n      <td>Free</td>\n      <td>0</td>\n      <td>Everyone</td>\n      <td>Education</td>\n      <td>July 27, 2018</td>\n      <td>5.0.0</td>\n      <td>4.1 and up</td>\n    </tr>\n    <tr>\n      <th>4</th>\n      <td>703</td>\n      <td>Learn English with Wlingua</td>\n      <td>EDUCATION</td>\n      <td>4.7</td>\n      <td>314299</td>\n      <td>3.3M</td>\n      <td>10,000,000+</td>\n      <td>Free</td>\n      <td>0</td>\n      <td>Everyone</td>\n      <td>Education</td>\n      <td>May 2, 2018</td>\n      <td>1.94.9</td>\n      <td>4.0 and up</td>\n    </tr>\n    <tr>\n      <th>...</th>\n      <td>...</td>\n      <td>...</td>\n      <td>...</td>\n      <td>...</td>\n      <td>...</td>\n      <td>...</td>\n      <td>...</td>\n      <td>...</td>\n      <td>...</td>\n      <td>...</td>\n      <td>...</td>\n      <td>...</td>\n      <td>...</td>\n      <td>...</td>\n    </tr>\n    <tr>\n      <th>93</th>\n      <td>848</td>\n      <td>SoloLearn: Learn to Code for Free</td>\n      <td>EDUCATION</td>\n      <td>4.8</td>\n      <td>256079</td>\n      <td>7.6M</td>\n      <td>1,000,000+</td>\n      <td>Free</td>\n      <td>0</td>\n      <td>Teen</td>\n      <td>Education</td>\n      <td>July 12, 2018</td>\n      <td>2.2.4</td>\n      <td>4.0.3 and up</td>\n    </tr>\n    <tr>\n      <th>94</th>\n      <td>849</td>\n      <td>Kids Learn Languages by Mondly</td>\n      <td>EDUCATION</td>\n      <td>4.4</td>\n      <td>2078</td>\n      <td>Varies with device</td>\n      <td>100,000+</td>\n      <td>Free</td>\n      <td>0</td>\n      <td>Everyone</td>\n      <td>Education;Education</td>\n      <td>December 24, 2017</td>\n      <td>1.0.2</td>\n      <td>4.1 and up</td>\n    </tr>\n    <tr>\n      <th>95</th>\n      <td>850</td>\n      <td>Blinkist - Nonfiction Books</td>\n      <td>EDUCATION</td>\n      <td>4.1</td>\n      <td>16103</td>\n      <td>13M</td>\n      <td>1,000,000+</td>\n      <td>Free</td>\n      <td>0</td>\n      <td>Everyone</td>\n      <td>Education</td>\n      <td>July 31, 2018</td>\n      <td>5.7.1</td>\n      <td>4.1 and up</td>\n    </tr>\n    <tr>\n      <th>96</th>\n      <td>853</td>\n      <td>Toca Life: City</td>\n      <td>EDUCATION</td>\n      <td>4.7</td>\n      <td>31085</td>\n      <td>24M</td>\n      <td>500,000+</td>\n      <td>Paid</td>\n      <td>$3.99</td>\n      <td>Everyone</td>\n      <td>Education;Pretend Play</td>\n      <td>July 6, 2018</td>\n      <td>1.5-play</td>\n      <td>4.4 and up</td>\n    </tr>\n    <tr>\n      <th>97</th>\n      <td>854</td>\n      <td>Toca Life: Hospital</td>\n      <td>EDUCATION</td>\n      <td>4.7</td>\n      <td>3528</td>\n      <td>24M</td>\n      <td>100,000+</td>\n      <td>Paid</td>\n      <td>$3.99</td>\n      <td>Everyone</td>\n      <td>Education;Pretend Play</td>\n      <td>June 12, 2018</td>\n      <td>1.1.1-play</td>\n      <td>4.4 and up</td>\n    </tr>\n  </tbody>\n</table>\n<p>98 rows × 14 columns</p>\n</div>"
     },
     "execution_count": 48,
     "metadata": {},
     "output_type": "execute_result"
    }
   ],
   "source": [
    "# how many educational apps\n",
    "# and\n",
    "# with over 1000 reviews\n",
    "education_playstore = unique_playstore[\n",
    "    (unique_playstore['category'] == 'EDUCATION')\n",
    "    &\n",
    "    (unique_playstore['reviews'] > 1000)\n",
    "].reset_index(drop=True)\n",
    "\n",
    "education_playstore"
   ],
   "metadata": {
    "collapsed": false,
    "pycharm": {
     "name": "#%%\n"
    }
   }
  },
  {
   "cell_type": "code",
   "execution_count": 49,
   "outputs": [
    {
     "data": {
      "text/plain": "      unnamed:_0                                                app  \\\n0              0     Photo Editor & Candy Camera & Grid & ScrapBook   \n1              1                                Coloring book moana   \n2              2  U Launcher Lite – FREE Live Cool Themes, Hide ...   \n3              3                              Sketch - Draw & Paint   \n4              4              Pixel Draw - Number Art Coloring Book   \n...          ...                                                ...   \n9654       10835                                   Sya9a Maroc - FR   \n9655       10836                   Fr. Mike Schmitz Audio Teachings   \n9656       10837                             Parkinson Exercices FR   \n9657       10838                      The SCP Foundation DB fr nn5n   \n9658       10839      iHoroscope - 2018 Daily Horoscope & Astrology   \n\n                 category  rating  reviews                size     installs  \\\n0          ART_AND_DESIGN     4.1      159                 19M      10,000+   \n1          ART_AND_DESIGN     3.9      967                 14M     500,000+   \n2          ART_AND_DESIGN     4.7    87510                8.7M   5,000,000+   \n3          ART_AND_DESIGN     4.5   215644                 25M  50,000,000+   \n4          ART_AND_DESIGN     4.3      967                2.8M     100,000+   \n...                   ...     ...      ...                 ...          ...   \n9654               FAMILY     4.5       38                 53M       5,000+   \n9655               FAMILY     5.0        4                3.6M         100+   \n9656              MEDICAL     NaN        3                9.5M       1,000+   \n9657  BOOKS_AND_REFERENCE     4.5      114  Varies with device       1,000+   \n9658            LIFESTYLE     4.5   398307                 19M  10,000,000+   \n\n      type price content_rating                     genres last_updated  \\\n0     Free     0       Everyone               Art & Design   2018-01-07   \n1     Free     0       Everyone  Art & Design;Pretend Play   2018-01-15   \n2     Free     0       Everyone               Art & Design   2018-08-01   \n3     Free     0           Teen               Art & Design   2018-06-08   \n4     Free     0       Everyone    Art & Design;Creativity   2018-06-20   \n...    ...   ...            ...                        ...          ...   \n9654  Free     0       Everyone                  Education   2017-07-25   \n9655  Free     0       Everyone                  Education   2018-07-06   \n9656  Free     0       Everyone                    Medical   2017-01-20   \n9657  Free     0     Mature 17+          Books & Reference   2015-01-19   \n9658  Free     0       Everyone                  Lifestyle   2018-07-25   \n\n             current_ver         android_ver  \n0                  1.0.0        4.0.3 and up  \n1                  2.0.0        4.0.3 and up  \n2                  1.2.4        4.0.3 and up  \n3     Varies with device          4.2 and up  \n4                    1.1          4.4 and up  \n...                  ...                 ...  \n9654                1.48          4.1 and up  \n9655                 1.0          4.1 and up  \n9656                 1.0          2.2 and up  \n9657  Varies with device  Varies with device  \n9658  Varies with device  Varies with device  \n\n[9659 rows x 14 columns]",
      "text/html": "<div>\n<style scoped>\n    .dataframe tbody tr th:only-of-type {\n        vertical-align: middle;\n    }\n\n    .dataframe tbody tr th {\n        vertical-align: top;\n    }\n\n    .dataframe thead th {\n        text-align: right;\n    }\n</style>\n<table border=\"1\" class=\"dataframe\">\n  <thead>\n    <tr style=\"text-align: right;\">\n      <th></th>\n      <th>unnamed:_0</th>\n      <th>app</th>\n      <th>category</th>\n      <th>rating</th>\n      <th>reviews</th>\n      <th>size</th>\n      <th>installs</th>\n      <th>type</th>\n      <th>price</th>\n      <th>content_rating</th>\n      <th>genres</th>\n      <th>last_updated</th>\n      <th>current_ver</th>\n      <th>android_ver</th>\n    </tr>\n  </thead>\n  <tbody>\n    <tr>\n      <th>0</th>\n      <td>0</td>\n      <td>Photo Editor &amp; Candy Camera &amp; Grid &amp; ScrapBook</td>\n      <td>ART_AND_DESIGN</td>\n      <td>4.1</td>\n      <td>159</td>\n      <td>19M</td>\n      <td>10,000+</td>\n      <td>Free</td>\n      <td>0</td>\n      <td>Everyone</td>\n      <td>Art &amp; Design</td>\n      <td>2018-01-07</td>\n      <td>1.0.0</td>\n      <td>4.0.3 and up</td>\n    </tr>\n    <tr>\n      <th>1</th>\n      <td>1</td>\n      <td>Coloring book moana</td>\n      <td>ART_AND_DESIGN</td>\n      <td>3.9</td>\n      <td>967</td>\n      <td>14M</td>\n      <td>500,000+</td>\n      <td>Free</td>\n      <td>0</td>\n      <td>Everyone</td>\n      <td>Art &amp; Design;Pretend Play</td>\n      <td>2018-01-15</td>\n      <td>2.0.0</td>\n      <td>4.0.3 and up</td>\n    </tr>\n    <tr>\n      <th>2</th>\n      <td>2</td>\n      <td>U Launcher Lite – FREE Live Cool Themes, Hide ...</td>\n      <td>ART_AND_DESIGN</td>\n      <td>4.7</td>\n      <td>87510</td>\n      <td>8.7M</td>\n      <td>5,000,000+</td>\n      <td>Free</td>\n      <td>0</td>\n      <td>Everyone</td>\n      <td>Art &amp; Design</td>\n      <td>2018-08-01</td>\n      <td>1.2.4</td>\n      <td>4.0.3 and up</td>\n    </tr>\n    <tr>\n      <th>3</th>\n      <td>3</td>\n      <td>Sketch - Draw &amp; Paint</td>\n      <td>ART_AND_DESIGN</td>\n      <td>4.5</td>\n      <td>215644</td>\n      <td>25M</td>\n      <td>50,000,000+</td>\n      <td>Free</td>\n      <td>0</td>\n      <td>Teen</td>\n      <td>Art &amp; Design</td>\n      <td>2018-06-08</td>\n      <td>Varies with device</td>\n      <td>4.2 and up</td>\n    </tr>\n    <tr>\n      <th>4</th>\n      <td>4</td>\n      <td>Pixel Draw - Number Art Coloring Book</td>\n      <td>ART_AND_DESIGN</td>\n      <td>4.3</td>\n      <td>967</td>\n      <td>2.8M</td>\n      <td>100,000+</td>\n      <td>Free</td>\n      <td>0</td>\n      <td>Everyone</td>\n      <td>Art &amp; Design;Creativity</td>\n      <td>2018-06-20</td>\n      <td>1.1</td>\n      <td>4.4 and up</td>\n    </tr>\n    <tr>\n      <th>...</th>\n      <td>...</td>\n      <td>...</td>\n      <td>...</td>\n      <td>...</td>\n      <td>...</td>\n      <td>...</td>\n      <td>...</td>\n      <td>...</td>\n      <td>...</td>\n      <td>...</td>\n      <td>...</td>\n      <td>...</td>\n      <td>...</td>\n      <td>...</td>\n    </tr>\n    <tr>\n      <th>9654</th>\n      <td>10835</td>\n      <td>Sya9a Maroc - FR</td>\n      <td>FAMILY</td>\n      <td>4.5</td>\n      <td>38</td>\n      <td>53M</td>\n      <td>5,000+</td>\n      <td>Free</td>\n      <td>0</td>\n      <td>Everyone</td>\n      <td>Education</td>\n      <td>2017-07-25</td>\n      <td>1.48</td>\n      <td>4.1 and up</td>\n    </tr>\n    <tr>\n      <th>9655</th>\n      <td>10836</td>\n      <td>Fr. Mike Schmitz Audio Teachings</td>\n      <td>FAMILY</td>\n      <td>5.0</td>\n      <td>4</td>\n      <td>3.6M</td>\n      <td>100+</td>\n      <td>Free</td>\n      <td>0</td>\n      <td>Everyone</td>\n      <td>Education</td>\n      <td>2018-07-06</td>\n      <td>1.0</td>\n      <td>4.1 and up</td>\n    </tr>\n    <tr>\n      <th>9656</th>\n      <td>10837</td>\n      <td>Parkinson Exercices FR</td>\n      <td>MEDICAL</td>\n      <td>NaN</td>\n      <td>3</td>\n      <td>9.5M</td>\n      <td>1,000+</td>\n      <td>Free</td>\n      <td>0</td>\n      <td>Everyone</td>\n      <td>Medical</td>\n      <td>2017-01-20</td>\n      <td>1.0</td>\n      <td>2.2 and up</td>\n    </tr>\n    <tr>\n      <th>9657</th>\n      <td>10838</td>\n      <td>The SCP Foundation DB fr nn5n</td>\n      <td>BOOKS_AND_REFERENCE</td>\n      <td>4.5</td>\n      <td>114</td>\n      <td>Varies with device</td>\n      <td>1,000+</td>\n      <td>Free</td>\n      <td>0</td>\n      <td>Mature 17+</td>\n      <td>Books &amp; Reference</td>\n      <td>2015-01-19</td>\n      <td>Varies with device</td>\n      <td>Varies with device</td>\n    </tr>\n    <tr>\n      <th>9658</th>\n      <td>10839</td>\n      <td>iHoroscope - 2018 Daily Horoscope &amp; Astrology</td>\n      <td>LIFESTYLE</td>\n      <td>4.5</td>\n      <td>398307</td>\n      <td>19M</td>\n      <td>10,000,000+</td>\n      <td>Free</td>\n      <td>0</td>\n      <td>Everyone</td>\n      <td>Lifestyle</td>\n      <td>2018-07-25</td>\n      <td>Varies with device</td>\n      <td>Varies with device</td>\n    </tr>\n  </tbody>\n</table>\n<p>9659 rows × 14 columns</p>\n</div>"
     },
     "execution_count": 49,
     "metadata": {},
     "output_type": "execute_result"
    }
   ],
   "source": [
    "#change column with date type\n",
    "unique_playstore['last_updated'] = pd.to_datetime(unique_playstore['last_updated'])\n",
    "unique_playstore"
   ],
   "metadata": {
    "collapsed": false,
    "pycharm": {
     "name": "#%%\n"
    }
   }
  },
  {
   "cell_type": "code",
   "execution_count": 50,
   "outputs": [
    {
     "data": {
      "text/plain": "      unnamed:_0                                                app  \\\n0              0     Photo Editor & Candy Camera & Grid & ScrapBook   \n1              1                                Coloring book moana   \n2              2  U Launcher Lite – FREE Live Cool Themes, Hide ...   \n3              3                              Sketch - Draw & Paint   \n4              4              Pixel Draw - Number Art Coloring Book   \n...          ...                                                ...   \n9654       10835                                   Sya9a Maroc - FR   \n9655       10836                   Fr. Mike Schmitz Audio Teachings   \n9656       10837                             Parkinson Exercices FR   \n9657       10838                      The SCP Foundation DB fr nn5n   \n9658       10839      iHoroscope - 2018 Daily Horoscope & Astrology   \n\n                 category  rating  reviews                size     installs  \\\n0          ART_AND_DESIGN     4.1      159                 19M      10,000+   \n1          ART_AND_DESIGN     3.9      967                 14M     500,000+   \n2          ART_AND_DESIGN     4.7    87510                8.7M   5,000,000+   \n3          ART_AND_DESIGN     4.5   215644                 25M  50,000,000+   \n4          ART_AND_DESIGN     4.3      967                2.8M     100,000+   \n...                   ...     ...      ...                 ...          ...   \n9654               FAMILY     4.5       38                 53M       5,000+   \n9655               FAMILY     5.0        4                3.6M         100+   \n9656              MEDICAL     NaN        3                9.5M       1,000+   \n9657  BOOKS_AND_REFERENCE     4.5      114  Varies with device       1,000+   \n9658            LIFESTYLE     4.5   398307                 19M  10,000,000+   \n\n      type  price content_rating                     genres last_updated  \\\n0     Free    0.0       Everyone               Art & Design   2018-01-07   \n1     Free    0.0       Everyone  Art & Design;Pretend Play   2018-01-15   \n2     Free    0.0       Everyone               Art & Design   2018-08-01   \n3     Free    0.0           Teen               Art & Design   2018-06-08   \n4     Free    0.0       Everyone    Art & Design;Creativity   2018-06-20   \n...    ...    ...            ...                        ...          ...   \n9654  Free    0.0       Everyone                  Education   2017-07-25   \n9655  Free    0.0       Everyone                  Education   2018-07-06   \n9656  Free    0.0       Everyone                    Medical   2017-01-20   \n9657  Free    0.0     Mature 17+          Books & Reference   2015-01-19   \n9658  Free    0.0       Everyone                  Lifestyle   2018-07-25   \n\n             current_ver         android_ver  \n0                  1.0.0        4.0.3 and up  \n1                  2.0.0        4.0.3 and up  \n2                  1.2.4        4.0.3 and up  \n3     Varies with device          4.2 and up  \n4                    1.1          4.4 and up  \n...                  ...                 ...  \n9654                1.48          4.1 and up  \n9655                 1.0          4.1 and up  \n9656                 1.0          2.2 and up  \n9657  Varies with device  Varies with device  \n9658  Varies with device  Varies with device  \n\n[9659 rows x 14 columns]",
      "text/html": "<div>\n<style scoped>\n    .dataframe tbody tr th:only-of-type {\n        vertical-align: middle;\n    }\n\n    .dataframe tbody tr th {\n        vertical-align: top;\n    }\n\n    .dataframe thead th {\n        text-align: right;\n    }\n</style>\n<table border=\"1\" class=\"dataframe\">\n  <thead>\n    <tr style=\"text-align: right;\">\n      <th></th>\n      <th>unnamed:_0</th>\n      <th>app</th>\n      <th>category</th>\n      <th>rating</th>\n      <th>reviews</th>\n      <th>size</th>\n      <th>installs</th>\n      <th>type</th>\n      <th>price</th>\n      <th>content_rating</th>\n      <th>genres</th>\n      <th>last_updated</th>\n      <th>current_ver</th>\n      <th>android_ver</th>\n    </tr>\n  </thead>\n  <tbody>\n    <tr>\n      <th>0</th>\n      <td>0</td>\n      <td>Photo Editor &amp; Candy Camera &amp; Grid &amp; ScrapBook</td>\n      <td>ART_AND_DESIGN</td>\n      <td>4.1</td>\n      <td>159</td>\n      <td>19M</td>\n      <td>10,000+</td>\n      <td>Free</td>\n      <td>0.0</td>\n      <td>Everyone</td>\n      <td>Art &amp; Design</td>\n      <td>2018-01-07</td>\n      <td>1.0.0</td>\n      <td>4.0.3 and up</td>\n    </tr>\n    <tr>\n      <th>1</th>\n      <td>1</td>\n      <td>Coloring book moana</td>\n      <td>ART_AND_DESIGN</td>\n      <td>3.9</td>\n      <td>967</td>\n      <td>14M</td>\n      <td>500,000+</td>\n      <td>Free</td>\n      <td>0.0</td>\n      <td>Everyone</td>\n      <td>Art &amp; Design;Pretend Play</td>\n      <td>2018-01-15</td>\n      <td>2.0.0</td>\n      <td>4.0.3 and up</td>\n    </tr>\n    <tr>\n      <th>2</th>\n      <td>2</td>\n      <td>U Launcher Lite – FREE Live Cool Themes, Hide ...</td>\n      <td>ART_AND_DESIGN</td>\n      <td>4.7</td>\n      <td>87510</td>\n      <td>8.7M</td>\n      <td>5,000,000+</td>\n      <td>Free</td>\n      <td>0.0</td>\n      <td>Everyone</td>\n      <td>Art &amp; Design</td>\n      <td>2018-08-01</td>\n      <td>1.2.4</td>\n      <td>4.0.3 and up</td>\n    </tr>\n    <tr>\n      <th>3</th>\n      <td>3</td>\n      <td>Sketch - Draw &amp; Paint</td>\n      <td>ART_AND_DESIGN</td>\n      <td>4.5</td>\n      <td>215644</td>\n      <td>25M</td>\n      <td>50,000,000+</td>\n      <td>Free</td>\n      <td>0.0</td>\n      <td>Teen</td>\n      <td>Art &amp; Design</td>\n      <td>2018-06-08</td>\n      <td>Varies with device</td>\n      <td>4.2 and up</td>\n    </tr>\n    <tr>\n      <th>4</th>\n      <td>4</td>\n      <td>Pixel Draw - Number Art Coloring Book</td>\n      <td>ART_AND_DESIGN</td>\n      <td>4.3</td>\n      <td>967</td>\n      <td>2.8M</td>\n      <td>100,000+</td>\n      <td>Free</td>\n      <td>0.0</td>\n      <td>Everyone</td>\n      <td>Art &amp; Design;Creativity</td>\n      <td>2018-06-20</td>\n      <td>1.1</td>\n      <td>4.4 and up</td>\n    </tr>\n    <tr>\n      <th>...</th>\n      <td>...</td>\n      <td>...</td>\n      <td>...</td>\n      <td>...</td>\n      <td>...</td>\n      <td>...</td>\n      <td>...</td>\n      <td>...</td>\n      <td>...</td>\n      <td>...</td>\n      <td>...</td>\n      <td>...</td>\n      <td>...</td>\n      <td>...</td>\n    </tr>\n    <tr>\n      <th>9654</th>\n      <td>10835</td>\n      <td>Sya9a Maroc - FR</td>\n      <td>FAMILY</td>\n      <td>4.5</td>\n      <td>38</td>\n      <td>53M</td>\n      <td>5,000+</td>\n      <td>Free</td>\n      <td>0.0</td>\n      <td>Everyone</td>\n      <td>Education</td>\n      <td>2017-07-25</td>\n      <td>1.48</td>\n      <td>4.1 and up</td>\n    </tr>\n    <tr>\n      <th>9655</th>\n      <td>10836</td>\n      <td>Fr. Mike Schmitz Audio Teachings</td>\n      <td>FAMILY</td>\n      <td>5.0</td>\n      <td>4</td>\n      <td>3.6M</td>\n      <td>100+</td>\n      <td>Free</td>\n      <td>0.0</td>\n      <td>Everyone</td>\n      <td>Education</td>\n      <td>2018-07-06</td>\n      <td>1.0</td>\n      <td>4.1 and up</td>\n    </tr>\n    <tr>\n      <th>9656</th>\n      <td>10837</td>\n      <td>Parkinson Exercices FR</td>\n      <td>MEDICAL</td>\n      <td>NaN</td>\n      <td>3</td>\n      <td>9.5M</td>\n      <td>1,000+</td>\n      <td>Free</td>\n      <td>0.0</td>\n      <td>Everyone</td>\n      <td>Medical</td>\n      <td>2017-01-20</td>\n      <td>1.0</td>\n      <td>2.2 and up</td>\n    </tr>\n    <tr>\n      <th>9657</th>\n      <td>10838</td>\n      <td>The SCP Foundation DB fr nn5n</td>\n      <td>BOOKS_AND_REFERENCE</td>\n      <td>4.5</td>\n      <td>114</td>\n      <td>Varies with device</td>\n      <td>1,000+</td>\n      <td>Free</td>\n      <td>0.0</td>\n      <td>Mature 17+</td>\n      <td>Books &amp; Reference</td>\n      <td>2015-01-19</td>\n      <td>Varies with device</td>\n      <td>Varies with device</td>\n    </tr>\n    <tr>\n      <th>9658</th>\n      <td>10839</td>\n      <td>iHoroscope - 2018 Daily Horoscope &amp; Astrology</td>\n      <td>LIFESTYLE</td>\n      <td>4.5</td>\n      <td>398307</td>\n      <td>19M</td>\n      <td>10,000,000+</td>\n      <td>Free</td>\n      <td>0.0</td>\n      <td>Everyone</td>\n      <td>Lifestyle</td>\n      <td>2018-07-25</td>\n      <td>Varies with device</td>\n      <td>Varies with device</td>\n    </tr>\n  </tbody>\n</table>\n<p>9659 rows × 14 columns</p>\n</div>"
     },
     "execution_count": 50,
     "metadata": {},
     "output_type": "execute_result"
    }
   ],
   "source": [
    "#for convenience, let's turn the price into a float data type\n",
    "unique_playstore['price'] = unique_playstore.price.apply(lambda x: x.replace('$', '')).astype('float')\n",
    "unique_playstore"
   ],
   "metadata": {
    "collapsed": false,
    "pycharm": {
     "name": "#%%\n"
    }
   }
  },
  {
   "cell_type": "code",
   "execution_count": 51,
   "outputs": [
    {
     "name": "stdout",
     "output_type": "stream",
     "text": [
      "Median price = 0.0, mean = 1.1\n"
     ]
    }
   ],
   "source": [
    "price_median = unique_playstore.price.median().round(2)\n",
    "price_mean = unique_playstore.price.mean().round(2)\n",
    "print(f'Median price = {price_median}, mean = {price_mean}')"
   ],
   "metadata": {
    "collapsed": false,
    "pycharm": {
     "name": "#%%\n"
    }
   }
  },
  {
   "cell_type": "code",
   "execution_count": null,
   "outputs": [],
   "source": [],
   "metadata": {
    "collapsed": false,
    "pycharm": {
     "name": "#%%\n"
    }
   }
  }
 ],
 "metadata": {
  "kernelspec": {
   "display_name": "Python 3",
   "language": "python",
   "name": "python3"
  },
  "language_info": {
   "codemirror_mode": {
    "name": "ipython",
    "version": 2
   },
   "file_extension": ".py",
   "mimetype": "text/x-python",
   "name": "python",
   "nbconvert_exporter": "python",
   "pygments_lexer": "ipython2",
   "version": "2.7.6"
  }
 },
 "nbformat": 4,
 "nbformat_minor": 0
}